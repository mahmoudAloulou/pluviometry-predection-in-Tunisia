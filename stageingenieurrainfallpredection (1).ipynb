{
 "cells": [
  {
   "cell_type": "code",
   "execution_count": 3,
   "metadata": {
    "_cell_guid": "b1076dfc-b9ad-4769-8c92-a6c4dae69d19",
    "_uuid": "8f2839f25d086af736a60e9eeb907d3b93b6e0e5",
    "execution": {
     "iopub.execute_input": "2021-09-27T17:39:36.632892Z",
     "iopub.status.busy": "2021-09-27T17:39:36.632185Z",
     "iopub.status.idle": "2021-09-27T17:39:36.669619Z",
     "shell.execute_reply": "2021-09-27T17:39:36.669003Z",
     "shell.execute_reply.started": "2021-09-27T17:39:36.632768Z"
    }
   },
   "outputs": [],
   "source": [
    "# This Python 3 environment comes with many helpful analytics libraries installed\n",
    "# It is defined by the kaggle/python Docker image: https://github.com/kaggle/docker-python\n",
    "# For example, here's several helpful packages to load\n",
    "\n",
    "import numpy as np # linear algebra\n",
    "import pandas as pd # data processing, CSV file I/O (e.g. pd.read_csv)\n",
    "\n",
    "# Input data files are available in the read-only \"../input/\" directory\n",
    "# For example, running this (by clicking run or pressing Shift+Enter) will list all files under the input directory\n",
    "\n",
    "import os\n",
    "for dirname, _, filenames in os.walk('/kaggle/input'):\n",
    "    for filename in filenames:\n",
    "        print(os.path.join(dirname, filename))\n",
    "\n",
    "# You can write up to 20GB to the current directory (/kaggle/working/) that gets preserved as output when you create a version using \"Save & Run All\" \n",
    "# You can also write temporary files to /kaggle/temp/, but they won't be saved outside of the current session"
   ]
  },
  {
   "cell_type": "code",
   "execution_count": 4,
   "metadata": {
    "execution": {
     "iopub.execute_input": "2021-09-27T17:39:36.671600Z",
     "iopub.status.busy": "2021-09-27T17:39:36.671239Z",
     "iopub.status.idle": "2021-09-27T17:39:36.954167Z",
     "shell.execute_reply": "2021-09-27T17:39:36.953278Z",
     "shell.execute_reply.started": "2021-09-27T17:39:36.671573Z"
    }
   },
   "outputs": [
    {
     "data": {
      "text/html": [
       "<div>\n",
       "<style scoped>\n",
       "    .dataframe tbody tr th:only-of-type {\n",
       "        vertical-align: middle;\n",
       "    }\n",
       "\n",
       "    .dataframe tbody tr th {\n",
       "        vertical-align: top;\n",
       "    }\n",
       "\n",
       "    .dataframe thead th {\n",
       "        text-align: right;\n",
       "    }\n",
       "</style>\n",
       "<table border=\"1\" class=\"dataframe\">\n",
       "  <thead>\n",
       "    <tr style=\"text-align: right;\">\n",
       "      <th></th>\n",
       "      <th>Date</th>\n",
       "      <th>station</th>\n",
       "      <th>Pluvio_du_jour</th>\n",
       "      <th>Cumul_du_mois</th>\n",
       "      <th>Cumul_moy_du_mois</th>\n",
       "      <th>Cumul_periode</th>\n",
       "      <th>Cumul_moy_periode</th>\n",
       "      <th>Cumul_mois_precedent</th>\n",
       "      <th>Cumul_periode_precedente</th>\n",
       "    </tr>\n",
       "  </thead>\n",
       "  <tbody>\n",
       "    <tr>\n",
       "      <th>0</th>\n",
       "      <td>2021-07-31</td>\n",
       "      <td>جندوبة</td>\n",
       "      <td>0.0</td>\n",
       "      <td>0.0</td>\n",
       "      <td>5.198000</td>\n",
       "      <td>367.8</td>\n",
       "      <td>449.019077</td>\n",
       "      <td>0.6</td>\n",
       "      <td>412.2</td>\n",
       "    </tr>\n",
       "    <tr>\n",
       "      <th>1</th>\n",
       "      <td>2021-07-31</td>\n",
       "      <td>بوسالم</td>\n",
       "      <td>0.0</td>\n",
       "      <td>0.0</td>\n",
       "      <td>3.317778</td>\n",
       "      <td>338.3</td>\n",
       "      <td>422.749899</td>\n",
       "      <td>0.0</td>\n",
       "      <td>363.9</td>\n",
       "    </tr>\n",
       "    <tr>\n",
       "      <th>2</th>\n",
       "      <td>2021-07-31</td>\n",
       "      <td>غار الدماء</td>\n",
       "      <td>0.0</td>\n",
       "      <td>3.0</td>\n",
       "      <td>4.118841</td>\n",
       "      <td>375.1</td>\n",
       "      <td>438.382102</td>\n",
       "      <td>0.0</td>\n",
       "      <td>412.5</td>\n",
       "    </tr>\n",
       "    <tr>\n",
       "      <th>3</th>\n",
       "      <td>2021-07-31</td>\n",
       "      <td>عين دراهم</td>\n",
       "      <td>0.0</td>\n",
       "      <td>0.0</td>\n",
       "      <td>7.126000</td>\n",
       "      <td>1234.0</td>\n",
       "      <td>1558.325693</td>\n",
       "      <td>7.0</td>\n",
       "      <td>1183.0</td>\n",
       "    </tr>\n",
       "    <tr>\n",
       "      <th>4</th>\n",
       "      <td>2021-07-31</td>\n",
       "      <td>طبرقة</td>\n",
       "      <td>0.0</td>\n",
       "      <td>0.0</td>\n",
       "      <td>3.944000</td>\n",
       "      <td>922.5</td>\n",
       "      <td>939.731385</td>\n",
       "      <td>0.6</td>\n",
       "      <td>849.8</td>\n",
       "    </tr>\n",
       "  </tbody>\n",
       "</table>\n",
       "</div>"
      ],
      "text/plain": [
       "         Date     station  Pluvio_du_jour  Cumul_du_mois  Cumul_moy_du_mois  \\\n",
       "0  2021-07-31      جندوبة             0.0            0.0           5.198000   \n",
       "1  2021-07-31      بوسالم             0.0            0.0           3.317778   \n",
       "2  2021-07-31  غار الدماء             0.0            3.0           4.118841   \n",
       "3  2021-07-31   عين دراهم             0.0            0.0           7.126000   \n",
       "4  2021-07-31       طبرقة             0.0            0.0           3.944000   \n",
       "\n",
       "   Cumul_periode  Cumul_moy_periode  Cumul_mois_precedent  \\\n",
       "0          367.8         449.019077                   0.6   \n",
       "1          338.3         422.749899                   0.0   \n",
       "2          375.1         438.382102                   0.0   \n",
       "3         1234.0        1558.325693                   7.0   \n",
       "4          922.5         939.731385                   0.6   \n",
       "\n",
       "   Cumul_periode_precedente  \n",
       "0                     412.2  \n",
       "1                     363.9  \n",
       "2                     412.5  \n",
       "3                    1183.0  \n",
       "4                     849.8  "
      ]
     },
     "execution_count": 4,
     "metadata": {},
     "output_type": "execute_result"
    }
   ],
   "source": [
    "path=\"hello - pluviometrie.csv\"\n",
    "data=pd.read_csv(path)\n",
    "data.head()"
   ]
  },
  {
   "cell_type": "code",
   "execution_count": 5,
   "metadata": {
    "execution": {
     "iopub.execute_input": "2021-09-27T17:39:36.955756Z",
     "iopub.status.busy": "2021-09-27T17:39:36.955525Z",
     "iopub.status.idle": "2021-09-27T17:39:36.963064Z",
     "shell.execute_reply": "2021-09-27T17:39:36.962362Z",
     "shell.execute_reply.started": "2021-09-27T17:39:36.955730Z"
    }
   },
   "outputs": [
    {
     "data": {
      "text/plain": [
       "(102607, 9)"
      ]
     },
     "execution_count": 5,
     "metadata": {},
     "output_type": "execute_result"
    }
   ],
   "source": [
    "data.shape # shape before Cleaning"
   ]
  },
  {
   "cell_type": "code",
   "execution_count": 6,
   "metadata": {
    "execution": {
     "iopub.execute_input": "2021-09-27T17:39:36.965246Z",
     "iopub.status.busy": "2021-09-27T17:39:36.964571Z",
     "iopub.status.idle": "2021-09-27T17:39:37.038968Z",
     "shell.execute_reply": "2021-09-27T17:39:37.038052Z",
     "shell.execute_reply.started": "2021-09-27T17:39:36.965202Z"
    }
   },
   "outputs": [],
   "source": [
    "data = data.drop_duplicates() # pour supprimer les lignes dupliquées"
   ]
  },
  {
   "cell_type": "code",
   "execution_count": 7,
   "metadata": {
    "execution": {
     "iopub.execute_input": "2021-09-27T17:39:37.042175Z",
     "iopub.status.busy": "2021-09-27T17:39:37.041758Z",
     "iopub.status.idle": "2021-09-27T17:39:37.048488Z",
     "shell.execute_reply": "2021-09-27T17:39:37.047515Z",
     "shell.execute_reply.started": "2021-09-27T17:39:37.042130Z"
    }
   },
   "outputs": [
    {
     "data": {
      "text/plain": [
       "(85140, 9)"
      ]
     },
     "execution_count": 7,
     "metadata": {},
     "output_type": "execute_result"
    }
   ],
   "source": [
    "data.shape #shape after cleaning"
   ]
  },
  {
   "cell_type": "code",
   "execution_count": 8,
   "metadata": {
    "execution": {
     "iopub.execute_input": "2021-09-27T17:39:37.050409Z",
     "iopub.status.busy": "2021-09-27T17:39:37.050051Z",
     "iopub.status.idle": "2021-09-27T17:39:37.093442Z",
     "shell.execute_reply": "2021-09-27T17:39:37.092593Z",
     "shell.execute_reply.started": "2021-09-27T17:39:37.050377Z"
    }
   },
   "outputs": [
    {
     "name": "stdout",
     "output_type": "stream",
     "text": [
      "<class 'pandas.core.frame.DataFrame'>\n",
      "Int64Index: 85140 entries, 0 to 102606\n",
      "Data columns (total 9 columns):\n",
      " #   Column                    Non-Null Count  Dtype  \n",
      "---  ------                    --------------  -----  \n",
      " 0   Date                      85140 non-null  object \n",
      " 1   station                   85140 non-null  object \n",
      " 2   Pluvio_du_jour            85140 non-null  float64\n",
      " 3   Cumul_du_mois             85140 non-null  float64\n",
      " 4   Cumul_moy_du_mois         85140 non-null  float64\n",
      " 5   Cumul_periode             85140 non-null  float64\n",
      " 6   Cumul_moy_periode         85140 non-null  float64\n",
      " 7   Cumul_mois_precedent      85140 non-null  float64\n",
      " 8   Cumul_periode_precedente  85140 non-null  float64\n",
      "dtypes: float64(7), object(2)\n",
      "memory usage: 6.5+ MB\n"
     ]
    }
   ],
   "source": [
    "data.info()"
   ]
  },
  {
   "cell_type": "code",
   "execution_count": 9,
   "metadata": {
    "execution": {
     "iopub.execute_input": "2021-09-27T17:39:37.094801Z",
     "iopub.status.busy": "2021-09-27T17:39:37.094586Z",
     "iopub.status.idle": "2021-09-27T17:39:37.123094Z",
     "shell.execute_reply": "2021-09-27T17:39:37.122305Z",
     "shell.execute_reply.started": "2021-09-27T17:39:37.094776Z"
    }
   },
   "outputs": [
    {
     "data": {
      "text/plain": [
       "Date                        0\n",
       "station                     0\n",
       "Pluvio_du_jour              0\n",
       "Cumul_du_mois               0\n",
       "Cumul_moy_du_mois           0\n",
       "Cumul_periode               0\n",
       "Cumul_moy_periode           0\n",
       "Cumul_mois_precedent        0\n",
       "Cumul_periode_precedente    0\n",
       "dtype: int64"
      ]
     },
     "execution_count": 9,
     "metadata": {},
     "output_type": "execute_result"
    }
   ],
   "source": [
    "data.isnull().sum() #pour calculer le nombre de NaN dans chaque colone"
   ]
  },
  {
   "cell_type": "code",
   "execution_count": 10,
   "metadata": {
    "execution": {
     "iopub.execute_input": "2021-09-27T17:39:37.124474Z",
     "iopub.status.busy": "2021-09-27T17:39:37.124208Z",
     "iopub.status.idle": "2021-09-27T17:39:37.521509Z",
     "shell.execute_reply": "2021-09-27T17:39:37.520606Z",
     "shell.execute_reply.started": "2021-09-27T17:39:37.124442Z"
    }
   },
   "outputs": [],
   "source": [
    "import matplotlib.pyplot as plt\n",
    "import seaborn as sns\n",
    "import datetime"
   ]
  },
  {
   "cell_type": "code",
   "execution_count": 11,
   "metadata": {
    "execution": {
     "iopub.execute_input": "2021-09-27T17:39:37.523250Z",
     "iopub.status.busy": "2021-09-27T17:39:37.522923Z",
     "iopub.status.idle": "2021-09-27T17:39:37.541441Z",
     "shell.execute_reply": "2021-09-27T17:39:37.540585Z",
     "shell.execute_reply.started": "2021-09-27T17:39:37.523212Z"
    }
   },
   "outputs": [
    {
     "data": {
      "text/plain": [
       "127"
      ]
     },
     "execution_count": 11,
     "metadata": {},
     "output_type": "execute_result"
    }
   ],
   "source": [
    "data['station'].nunique() #calculer le nombre de stations\n"
   ]
  },
  {
   "cell_type": "markdown",
   "metadata": {},
   "source": [
    "On a 127 stations comme le montre la derniére ligne du dernier output.\n",
    "\n",
    "\n",
    "///////////////////////////////////////////////////////////////////////////////////////\n"
   ]
  },
  {
   "cell_type": "code",
   "execution_count": 12,
   "metadata": {
    "execution": {
     "iopub.execute_input": "2021-09-27T17:39:37.543133Z",
     "iopub.status.busy": "2021-09-27T17:39:37.542621Z",
     "iopub.status.idle": "2021-09-27T17:39:37.630663Z",
     "shell.execute_reply": "2021-09-27T17:39:37.629799Z",
     "shell.execute_reply.started": "2021-09-27T17:39:37.543099Z"
    }
   },
   "outputs": [
    {
     "data": {
      "text/plain": [
       "array([ 65,  46, 101, 100,  97,  80,  40, 116, 125,  81,  52,  58,  25,\n",
       "        83,  74, 113,  22,  12,  50,  86,  47,  26,  10,  85,  78, 120,\n",
       "        57,  56,   0,  91, 112, 123,  39,   2,  41,  38,   7, 124, 114,\n",
       "       107, 121, 109,  36,   5,  73,  19,  79,  96,   3,  44,  59,  71,\n",
       "        16, 115,  66,  77,  24,  67,  84,  37,  11,  93,  82,  21, 103,\n",
       "       104,  68,  75,  76,  51,  89,  92,  48,  30,   9,  64,  28,  87,\n",
       "        35, 118,  90,  27,  32,  31,  98,  63,  34,  15,  14,  18,  95,\n",
       "        99,  49,  17, 108, 122,   6, 111,  23,  13,  33,   8,  94,   1,\n",
       "        55,  54,  69, 126, 106,  20,  70, 105,   4,  29, 119, 117,  45,\n",
       "        42,  62,  61,  53, 102,  72, 110,  88,  43,  60])"
      ]
     },
     "execution_count": 12,
     "metadata": {},
     "output_type": "execute_result"
    }
   ],
   "source": [
    "from sklearn.preprocessing import LabelEncoder\n",
    "staation = LabelEncoder()\n",
    "data['station'] = staation.fit_transform(data['station'])\n",
    "data[\"station\"].unique()"
   ]
  },
  {
   "cell_type": "markdown",
   "metadata": {},
   "source": [
    "**on a 127 stations qu'on numérote de 0 vers 126**\n"
   ]
  },
  {
   "cell_type": "code",
   "execution_count": 13,
   "metadata": {
    "execution": {
     "iopub.execute_input": "2021-09-27T17:39:37.632249Z",
     "iopub.status.busy": "2021-09-27T17:39:37.631716Z",
     "iopub.status.idle": "2021-09-27T17:39:38.031609Z",
     "shell.execute_reply": "2021-09-27T17:39:38.030843Z",
     "shell.execute_reply.started": "2021-09-27T17:39:37.632215Z"
    }
   },
   "outputs": [
    {
     "data": {
      "image/png": "[encoded data removed]",
      "text/plain": [
       "<Figure size 1080x1080 with 1 Axes>"
      ]
     },
     "metadata": {
      "needs_background": "light"
     },
     "output_type": "display_data"
    }
   ],
   "source": [
    "fig = plt.figure(figsize = (15,15))\n",
    "plt.scatter(data[\"Date\"][1:3567],data[\"Pluvio_du_jour\"][1:3567],color=\"red\")\n",
    "plt.title('Pluviométrie en Tunisie durant le mois de Juillet 2021')\n",
    "plt.xlabel(\"date\")\n",
    "plt.xticks(rotation=90)\n",
    "plt.ylabel(\"pluviométrie du jour\")\n",
    "plt.show()"
   ]
  },
  {
   "cell_type": "markdown",
   "metadata": {},
   "source": [
    "Généralement pas de pluie en mois de Juillet à l'exception de quelques jours et ceci avec des quantités faibles.\n",
    "NB: chaque point dans le graphe représente une station, un seul point en 0 veut dire qu'il n'y avait pas de pluie dans toutes les stations."
   ]
  },
  {
   "cell_type": "code",
   "execution_count": 14,
   "metadata": {
    "execution": {
     "iopub.execute_input": "2021-09-27T17:39:38.033084Z",
     "iopub.status.busy": "2021-09-27T17:39:38.032856Z",
     "iopub.status.idle": "2021-09-27T17:39:38.040141Z",
     "shell.execute_reply": "2021-09-27T17:39:38.039112Z",
     "shell.execute_reply.started": "2021-09-27T17:39:38.033059Z"
    }
   },
   "outputs": [
    {
     "name": "stdout",
     "output_type": "stream",
     "text": [
      "Data type of each column of Dataframe :\n",
      "Date                         object\n",
      "station                       int32\n",
      "Pluvio_du_jour              float64\n",
      "Cumul_du_mois               float64\n",
      "Cumul_moy_du_mois           float64\n",
      "Cumul_periode               float64\n",
      "Cumul_moy_periode           float64\n",
      "Cumul_mois_precedent        float64\n",
      "Cumul_periode_precedente    float64\n",
      "dtype: object\n"
     ]
    }
   ],
   "source": [
    "dataTypeSeries = data.dtypes\n",
    "print('Data type of each column of Dataframe :')\n",
    "print(dataTypeSeries)"
   ]
  },
  {
   "cell_type": "markdown",
   "metadata": {},
   "source": [
    "il faut transformer la variable Date à une valeur numérique. Pour cela on définit la fonction ci-dessous"
   ]
  },
  {
   "cell_type": "code",
   "execution_count": 15,
   "metadata": {
    "execution": {
     "iopub.execute_input": "2021-09-27T17:39:38.041817Z",
     "iopub.status.busy": "2021-09-27T17:39:38.041577Z",
     "iopub.status.idle": "2021-09-27T17:39:38.050706Z",
     "shell.execute_reply": "2021-09-27T17:39:38.049905Z",
     "shell.execute_reply.started": "2021-09-27T17:39:38.041790Z"
    }
   },
   "outputs": [],
   "source": [
    "def transform(d):\n",
    "    l=d.split(\"-\",maxsplit=2)\n",
    "    int_list = list(map(int, l))\n",
    "\n",
    "    return  int_list[0]*10000+int_list[1]*100+int_list[2]"
   ]
  },
  {
   "cell_type": "code",
   "execution_count": 16,
   "metadata": {
    "execution": {
     "iopub.execute_input": "2021-09-27T17:39:38.055122Z",
     "iopub.status.busy": "2021-09-27T17:39:38.054853Z",
     "iopub.status.idle": "2021-09-27T17:39:38.279668Z",
     "shell.execute_reply": "2021-09-27T17:39:38.278860Z",
     "shell.execute_reply.started": "2021-09-27T17:39:38.055093Z"
    }
   },
   "outputs": [],
   "source": [
    "data['Date'] = data['Date'].apply(transform)"
   ]
  },
  {
   "cell_type": "markdown",
   "metadata": {},
   "source": [
    "L'input ci-dessus applique la fonction transform sur la colone date pour transformer les dates en des entiers et l'input ci-dessous vérifie que se s'est passée correctement\n"
   ]
  },
  {
   "cell_type": "code",
   "execution_count": 17,
   "metadata": {
    "execution": {
     "iopub.execute_input": "2021-09-27T17:39:38.281747Z",
     "iopub.status.busy": "2021-09-27T17:39:38.281437Z",
     "iopub.status.idle": "2021-09-27T17:39:38.299773Z",
     "shell.execute_reply": "2021-09-27T17:39:38.298882Z",
     "shell.execute_reply.started": "2021-09-27T17:39:38.281707Z"
    }
   },
   "outputs": [
    {
     "data": {
      "text/html": [
       "<div>\n",
       "<style scoped>\n",
       "    .dataframe tbody tr th:only-of-type {\n",
       "        vertical-align: middle;\n",
       "    }\n",
       "\n",
       "    .dataframe tbody tr th {\n",
       "        vertical-align: top;\n",
       "    }\n",
       "\n",
       "    .dataframe thead th {\n",
       "        text-align: right;\n",
       "    }\n",
       "</style>\n",
       "<table border=\"1\" class=\"dataframe\">\n",
       "  <thead>\n",
       "    <tr style=\"text-align: right;\">\n",
       "      <th></th>\n",
       "      <th>Date</th>\n",
       "      <th>station</th>\n",
       "      <th>Pluvio_du_jour</th>\n",
       "      <th>Cumul_du_mois</th>\n",
       "      <th>Cumul_moy_du_mois</th>\n",
       "      <th>Cumul_periode</th>\n",
       "      <th>Cumul_moy_periode</th>\n",
       "      <th>Cumul_mois_precedent</th>\n",
       "      <th>Cumul_periode_precedente</th>\n",
       "    </tr>\n",
       "  </thead>\n",
       "  <tbody>\n",
       "    <tr>\n",
       "      <th>0</th>\n",
       "      <td>20210731</td>\n",
       "      <td>65</td>\n",
       "      <td>0.0</td>\n",
       "      <td>0.0</td>\n",
       "      <td>5.198000</td>\n",
       "      <td>367.8</td>\n",
       "      <td>449.019077</td>\n",
       "      <td>0.6</td>\n",
       "      <td>412.2</td>\n",
       "    </tr>\n",
       "    <tr>\n",
       "      <th>1</th>\n",
       "      <td>20210731</td>\n",
       "      <td>46</td>\n",
       "      <td>0.0</td>\n",
       "      <td>0.0</td>\n",
       "      <td>3.317778</td>\n",
       "      <td>338.3</td>\n",
       "      <td>422.749899</td>\n",
       "      <td>0.0</td>\n",
       "      <td>363.9</td>\n",
       "    </tr>\n",
       "    <tr>\n",
       "      <th>2</th>\n",
       "      <td>20210731</td>\n",
       "      <td>101</td>\n",
       "      <td>0.0</td>\n",
       "      <td>3.0</td>\n",
       "      <td>4.118841</td>\n",
       "      <td>375.1</td>\n",
       "      <td>438.382102</td>\n",
       "      <td>0.0</td>\n",
       "      <td>412.5</td>\n",
       "    </tr>\n",
       "    <tr>\n",
       "      <th>3</th>\n",
       "      <td>20210731</td>\n",
       "      <td>100</td>\n",
       "      <td>0.0</td>\n",
       "      <td>0.0</td>\n",
       "      <td>7.126000</td>\n",
       "      <td>1234.0</td>\n",
       "      <td>1558.325693</td>\n",
       "      <td>7.0</td>\n",
       "      <td>1183.0</td>\n",
       "    </tr>\n",
       "    <tr>\n",
       "      <th>4</th>\n",
       "      <td>20210731</td>\n",
       "      <td>97</td>\n",
       "      <td>0.0</td>\n",
       "      <td>0.0</td>\n",
       "      <td>3.944000</td>\n",
       "      <td>922.5</td>\n",
       "      <td>939.731385</td>\n",
       "      <td>0.6</td>\n",
       "      <td>849.8</td>\n",
       "    </tr>\n",
       "  </tbody>\n",
       "</table>\n",
       "</div>"
      ],
      "text/plain": [
       "       Date  station  Pluvio_du_jour  Cumul_du_mois  Cumul_moy_du_mois  \\\n",
       "0  20210731       65             0.0            0.0           5.198000   \n",
       "1  20210731       46             0.0            0.0           3.317778   \n",
       "2  20210731      101             0.0            3.0           4.118841   \n",
       "3  20210731      100             0.0            0.0           7.126000   \n",
       "4  20210731       97             0.0            0.0           3.944000   \n",
       "\n",
       "   Cumul_periode  Cumul_moy_periode  Cumul_mois_precedent  \\\n",
       "0          367.8         449.019077                   0.6   \n",
       "1          338.3         422.749899                   0.0   \n",
       "2          375.1         438.382102                   0.0   \n",
       "3         1234.0        1558.325693                   7.0   \n",
       "4          922.5         939.731385                   0.6   \n",
       "\n",
       "   Cumul_periode_precedente  \n",
       "0                     412.2  \n",
       "1                     363.9  \n",
       "2                     412.5  \n",
       "3                    1183.0  \n",
       "4                     849.8  "
      ]
     },
     "execution_count": 17,
     "metadata": {},
     "output_type": "execute_result"
    }
   ],
   "source": [
    "data.head()"
   ]
  },
  {
   "cell_type": "code",
   "execution_count": 18,
   "metadata": {
    "execution": {
     "iopub.execute_input": "2021-09-27T17:39:38.301398Z",
     "iopub.status.busy": "2021-09-27T17:39:38.301135Z",
     "iopub.status.idle": "2021-09-27T17:39:38.317465Z",
     "shell.execute_reply": "2021-09-27T17:39:38.316652Z",
     "shell.execute_reply.started": "2021-09-27T17:39:38.301370Z"
    }
   },
   "outputs": [
    {
     "data": {
      "text/html": [
       "<div>\n",
       "<style scoped>\n",
       "    .dataframe tbody tr th:only-of-type {\n",
       "        vertical-align: middle;\n",
       "    }\n",
       "\n",
       "    .dataframe tbody tr th {\n",
       "        vertical-align: top;\n",
       "    }\n",
       "\n",
       "    .dataframe thead th {\n",
       "        text-align: right;\n",
       "    }\n",
       "</style>\n",
       "<table border=\"1\" class=\"dataframe\">\n",
       "  <thead>\n",
       "    <tr style=\"text-align: right;\">\n",
       "      <th></th>\n",
       "      <th>Date</th>\n",
       "      <th>station</th>\n",
       "      <th>Pluvio_du_jour</th>\n",
       "      <th>Cumul_du_mois</th>\n",
       "      <th>Cumul_moy_du_mois</th>\n",
       "      <th>Cumul_periode</th>\n",
       "      <th>Cumul_moy_periode</th>\n",
       "      <th>Cumul_mois_precedent</th>\n",
       "      <th>Cumul_periode_precedente</th>\n",
       "    </tr>\n",
       "  </thead>\n",
       "  <tbody>\n",
       "    <tr>\n",
       "      <th>102602</th>\n",
       "      <td>20190901</td>\n",
       "      <td>62</td>\n",
       "      <td>0.0</td>\n",
       "      <td>0.0</td>\n",
       "      <td>0.479592</td>\n",
       "      <td>0.0</td>\n",
       "      <td>0.479592</td>\n",
       "      <td>0.0</td>\n",
       "      <td>0.0</td>\n",
       "    </tr>\n",
       "    <tr>\n",
       "      <th>102603</th>\n",
       "      <td>20190901</td>\n",
       "      <td>60</td>\n",
       "      <td>0.0</td>\n",
       "      <td>0.0</td>\n",
       "      <td>1.081633</td>\n",
       "      <td>0.0</td>\n",
       "      <td>1.081633</td>\n",
       "      <td>0.0</td>\n",
       "      <td>0.0</td>\n",
       "    </tr>\n",
       "    <tr>\n",
       "      <th>102604</th>\n",
       "      <td>20190901</td>\n",
       "      <td>53</td>\n",
       "      <td>0.0</td>\n",
       "      <td>0.0</td>\n",
       "      <td>0.377778</td>\n",
       "      <td>0.0</td>\n",
       "      <td>0.377778</td>\n",
       "      <td>0.0</td>\n",
       "      <td>0.0</td>\n",
       "    </tr>\n",
       "    <tr>\n",
       "      <th>102605</th>\n",
       "      <td>20190901</td>\n",
       "      <td>102</td>\n",
       "      <td>0.0</td>\n",
       "      <td>0.0</td>\n",
       "      <td>0.000000</td>\n",
       "      <td>0.0</td>\n",
       "      <td>0.000000</td>\n",
       "      <td>0.0</td>\n",
       "      <td>0.0</td>\n",
       "    </tr>\n",
       "    <tr>\n",
       "      <th>102606</th>\n",
       "      <td>20190901</td>\n",
       "      <td>72</td>\n",
       "      <td>2.5</td>\n",
       "      <td>2.5</td>\n",
       "      <td>0.002326</td>\n",
       "      <td>2.5</td>\n",
       "      <td>0.002326</td>\n",
       "      <td>1.0</td>\n",
       "      <td>1.0</td>\n",
       "    </tr>\n",
       "  </tbody>\n",
       "</table>\n",
       "</div>"
      ],
      "text/plain": [
       "            Date  station  Pluvio_du_jour  Cumul_du_mois  Cumul_moy_du_mois  \\\n",
       "102602  20190901       62             0.0            0.0           0.479592   \n",
       "102603  20190901       60             0.0            0.0           1.081633   \n",
       "102604  20190901       53             0.0            0.0           0.377778   \n",
       "102605  20190901      102             0.0            0.0           0.000000   \n",
       "102606  20190901       72             2.5            2.5           0.002326   \n",
       "\n",
       "        Cumul_periode  Cumul_moy_periode  Cumul_mois_precedent  \\\n",
       "102602            0.0           0.479592                   0.0   \n",
       "102603            0.0           1.081633                   0.0   \n",
       "102604            0.0           0.377778                   0.0   \n",
       "102605            0.0           0.000000                   0.0   \n",
       "102606            2.5           0.002326                   1.0   \n",
       "\n",
       "        Cumul_periode_precedente  \n",
       "102602                       0.0  \n",
       "102603                       0.0  \n",
       "102604                       0.0  \n",
       "102605                       0.0  \n",
       "102606                       1.0  "
      ]
     },
     "execution_count": 18,
     "metadata": {},
     "output_type": "execute_result"
    }
   ],
   "source": [
    "data.tail()"
   ]
  },
  {
   "cell_type": "code",
   "execution_count": 19,
   "metadata": {
    "execution": {
     "iopub.execute_input": "2021-09-27T17:39:38.318995Z",
     "iopub.status.busy": "2021-09-27T17:39:38.318689Z",
     "iopub.status.idle": "2021-09-27T17:39:38.332918Z",
     "shell.execute_reply": "2021-09-27T17:39:38.331982Z",
     "shell.execute_reply.started": "2021-09-27T17:39:38.318958Z"
    }
   },
   "outputs": [],
   "source": [
    "X = data.drop([\"Cumul_du_mois\",\"Pluvio_du_jour\"] ,axis=1) #features\n",
    "y = data[\"Cumul_du_mois\"] #label ( on veut prédire la pluviométrie d'un mois)"
   ]
  },
  {
   "cell_type": "markdown",
   "metadata": {},
   "source": [
    "on choisit de prédire la pluviométrie du mois\n"
   ]
  },
  {
   "cell_type": "code",
   "execution_count": 20,
   "metadata": {
    "execution": {
     "iopub.execute_input": "2021-09-27T17:39:38.334636Z",
     "iopub.status.busy": "2021-09-27T17:39:38.334298Z",
     "iopub.status.idle": "2021-09-27T17:39:38.340701Z",
     "shell.execute_reply": "2021-09-27T17:39:38.339927Z",
     "shell.execute_reply.started": "2021-09-27T17:39:38.334600Z"
    }
   },
   "outputs": [],
   "source": [
    "###########"
   ]
  },
  {
   "cell_type": "code",
   "execution_count": 21,
   "metadata": {
    "execution": {
     "iopub.execute_input": "2021-09-27T17:39:38.342276Z",
     "iopub.status.busy": "2021-09-27T17:39:38.341975Z",
     "iopub.status.idle": "2021-09-27T17:39:38.365883Z",
     "shell.execute_reply": "2021-09-27T17:39:38.365254Z",
     "shell.execute_reply.started": "2021-09-27T17:39:38.342237Z"
    }
   },
   "outputs": [
    {
     "data": {
      "text/html": [
       "<div>\n",
       "<style scoped>\n",
       "    .dataframe tbody tr th:only-of-type {\n",
       "        vertical-align: middle;\n",
       "    }\n",
       "\n",
       "    .dataframe tbody tr th {\n",
       "        vertical-align: top;\n",
       "    }\n",
       "\n",
       "    .dataframe thead th {\n",
       "        text-align: right;\n",
       "    }\n",
       "</style>\n",
       "<table border=\"1\" class=\"dataframe\">\n",
       "  <thead>\n",
       "    <tr style=\"text-align: right;\">\n",
       "      <th></th>\n",
       "      <th>Date</th>\n",
       "      <th>station</th>\n",
       "      <th>Cumul_moy_du_mois</th>\n",
       "      <th>Cumul_periode</th>\n",
       "      <th>Cumul_moy_periode</th>\n",
       "      <th>Cumul_mois_precedent</th>\n",
       "      <th>Cumul_periode_precedente</th>\n",
       "    </tr>\n",
       "  </thead>\n",
       "  <tbody>\n",
       "    <tr>\n",
       "      <th>0</th>\n",
       "      <td>20210731</td>\n",
       "      <td>65</td>\n",
       "      <td>5.198000</td>\n",
       "      <td>367.8</td>\n",
       "      <td>449.019077</td>\n",
       "      <td>0.6</td>\n",
       "      <td>412.2</td>\n",
       "    </tr>\n",
       "    <tr>\n",
       "      <th>1</th>\n",
       "      <td>20210731</td>\n",
       "      <td>46</td>\n",
       "      <td>3.317778</td>\n",
       "      <td>338.3</td>\n",
       "      <td>422.749899</td>\n",
       "      <td>0.0</td>\n",
       "      <td>363.9</td>\n",
       "    </tr>\n",
       "    <tr>\n",
       "      <th>2</th>\n",
       "      <td>20210731</td>\n",
       "      <td>101</td>\n",
       "      <td>4.118841</td>\n",
       "      <td>375.1</td>\n",
       "      <td>438.382102</td>\n",
       "      <td>0.0</td>\n",
       "      <td>412.5</td>\n",
       "    </tr>\n",
       "    <tr>\n",
       "      <th>3</th>\n",
       "      <td>20210731</td>\n",
       "      <td>100</td>\n",
       "      <td>7.126000</td>\n",
       "      <td>1234.0</td>\n",
       "      <td>1558.325693</td>\n",
       "      <td>7.0</td>\n",
       "      <td>1183.0</td>\n",
       "    </tr>\n",
       "    <tr>\n",
       "      <th>4</th>\n",
       "      <td>20210731</td>\n",
       "      <td>97</td>\n",
       "      <td>3.944000</td>\n",
       "      <td>922.5</td>\n",
       "      <td>939.731385</td>\n",
       "      <td>0.6</td>\n",
       "      <td>849.8</td>\n",
       "    </tr>\n",
       "    <tr>\n",
       "      <th>...</th>\n",
       "      <td>...</td>\n",
       "      <td>...</td>\n",
       "      <td>...</td>\n",
       "      <td>...</td>\n",
       "      <td>...</td>\n",
       "      <td>...</td>\n",
       "      <td>...</td>\n",
       "    </tr>\n",
       "    <tr>\n",
       "      <th>102602</th>\n",
       "      <td>20190901</td>\n",
       "      <td>62</td>\n",
       "      <td>0.479592</td>\n",
       "      <td>0.0</td>\n",
       "      <td>0.479592</td>\n",
       "      <td>0.0</td>\n",
       "      <td>0.0</td>\n",
       "    </tr>\n",
       "    <tr>\n",
       "      <th>102603</th>\n",
       "      <td>20190901</td>\n",
       "      <td>60</td>\n",
       "      <td>1.081633</td>\n",
       "      <td>0.0</td>\n",
       "      <td>1.081633</td>\n",
       "      <td>0.0</td>\n",
       "      <td>0.0</td>\n",
       "    </tr>\n",
       "    <tr>\n",
       "      <th>102604</th>\n",
       "      <td>20190901</td>\n",
       "      <td>53</td>\n",
       "      <td>0.377778</td>\n",
       "      <td>0.0</td>\n",
       "      <td>0.377778</td>\n",
       "      <td>0.0</td>\n",
       "      <td>0.0</td>\n",
       "    </tr>\n",
       "    <tr>\n",
       "      <th>102605</th>\n",
       "      <td>20190901</td>\n",
       "      <td>102</td>\n",
       "      <td>0.000000</td>\n",
       "      <td>0.0</td>\n",
       "      <td>0.000000</td>\n",
       "      <td>0.0</td>\n",
       "      <td>0.0</td>\n",
       "    </tr>\n",
       "    <tr>\n",
       "      <th>102606</th>\n",
       "      <td>20190901</td>\n",
       "      <td>72</td>\n",
       "      <td>0.002326</td>\n",
       "      <td>2.5</td>\n",
       "      <td>0.002326</td>\n",
       "      <td>1.0</td>\n",
       "      <td>1.0</td>\n",
       "    </tr>\n",
       "  </tbody>\n",
       "</table>\n",
       "<p>85140 rows × 7 columns</p>\n",
       "</div>"
      ],
      "text/plain": [
       "            Date  station  Cumul_moy_du_mois  Cumul_periode  \\\n",
       "0       20210731       65           5.198000          367.8   \n",
       "1       20210731       46           3.317778          338.3   \n",
       "2       20210731      101           4.118841          375.1   \n",
       "3       20210731      100           7.126000         1234.0   \n",
       "4       20210731       97           3.944000          922.5   \n",
       "...          ...      ...                ...            ...   \n",
       "102602  20190901       62           0.479592            0.0   \n",
       "102603  20190901       60           1.081633            0.0   \n",
       "102604  20190901       53           0.377778            0.0   \n",
       "102605  20190901      102           0.000000            0.0   \n",
       "102606  20190901       72           0.002326            2.5   \n",
       "\n",
       "        Cumul_moy_periode  Cumul_mois_precedent  Cumul_periode_precedente  \n",
       "0              449.019077                   0.6                     412.2  \n",
       "1              422.749899                   0.0                     363.9  \n",
       "2              438.382102                   0.0                     412.5  \n",
       "3             1558.325693                   7.0                    1183.0  \n",
       "4              939.731385                   0.6                     849.8  \n",
       "...                   ...                   ...                       ...  \n",
       "102602           0.479592                   0.0                       0.0  \n",
       "102603           1.081633                   0.0                       0.0  \n",
       "102604           0.377778                   0.0                       0.0  \n",
       "102605           0.000000                   0.0                       0.0  \n",
       "102606           0.002326                   1.0                       1.0  \n",
       "\n",
       "[85140 rows x 7 columns]"
      ]
     },
     "execution_count": 21,
     "metadata": {},
     "output_type": "execute_result"
    }
   ],
   "source": [
    "X"
   ]
  },
  {
   "cell_type": "code",
   "execution_count": 22,
   "metadata": {
    "execution": {
     "iopub.execute_input": "2021-09-27T17:39:38.366990Z",
     "iopub.status.busy": "2021-09-27T17:39:38.366796Z",
     "iopub.status.idle": "2021-09-27T17:39:38.380982Z",
     "shell.execute_reply": "2021-09-27T17:39:38.380432Z",
     "shell.execute_reply.started": "2021-09-27T17:39:38.366967Z"
    }
   },
   "outputs": [
    {
     "data": {
      "text/plain": [
       "0         0.0\n",
       "1         0.0\n",
       "2         3.0\n",
       "3         0.0\n",
       "4         0.0\n",
       "         ... \n",
       "102602    0.0\n",
       "102603    0.0\n",
       "102604    0.0\n",
       "102605    0.0\n",
       "102606    2.5\n",
       "Name: Cumul_du_mois, Length: 85140, dtype: float64"
      ]
     },
     "execution_count": 22,
     "metadata": {},
     "output_type": "execute_result"
    }
   ],
   "source": [
    "y"
   ]
  },
  {
   "cell_type": "markdown",
   "metadata": {},
   "source": [
    "* **** Régression linéaire *****"
   ]
  },
  {
   "cell_type": "code",
   "execution_count": 23,
   "metadata": {
    "execution": {
     "iopub.execute_input": "2021-09-27T17:39:38.382638Z",
     "iopub.status.busy": "2021-09-27T17:39:38.381982Z",
     "iopub.status.idle": "2021-09-27T17:39:38.483734Z",
     "shell.execute_reply": "2021-09-27T17:39:38.483029Z",
     "shell.execute_reply.started": "2021-09-27T17:39:38.382604Z"
    }
   },
   "outputs": [
    {
     "data": {
      "text/plain": [
       "LinearRegression()"
      ]
     },
     "execution_count": 23,
     "metadata": {},
     "output_type": "execute_result"
    }
   ],
   "source": [
    "from sklearn.linear_model import LinearRegression # regression linéaire\n",
    "from sklearn.model_selection import train_test_split\n",
    "train_X, val_X, train_y, val_y = train_test_split(X, y.values, random_state = 0)\n",
    "#la ligne ci-dessus divise les données en données pour entrainement et pour test\n",
    "linear_reg = LinearRegression()\n",
    "linear_reg.fit(train_X, train_y)"
   ]
  },
  {
   "cell_type": "code",
   "execution_count": 24,
   "metadata": {
    "execution": {
     "iopub.execute_input": "2021-09-27T17:39:38.485288Z",
     "iopub.status.busy": "2021-09-27T17:39:38.484953Z",
     "iopub.status.idle": "2021-09-27T17:39:38.500536Z",
     "shell.execute_reply": "2021-09-27T17:39:38.499328Z",
     "shell.execute_reply.started": "2021-09-27T17:39:38.485252Z"
    }
   },
   "outputs": [],
   "source": [
    "y_pred = linear_reg.predict(val_X)"
   ]
  },
  {
   "cell_type": "code",
   "execution_count": 25,
   "metadata": {
    "execution": {
     "iopub.execute_input": "2021-09-27T17:39:38.503986Z",
     "iopub.status.busy": "2021-09-27T17:39:38.502524Z",
     "iopub.status.idle": "2021-09-27T17:39:38.510538Z",
     "shell.execute_reply": "2021-09-27T17:39:38.509415Z",
     "shell.execute_reply.started": "2021-09-27T17:39:38.503935Z"
    }
   },
   "outputs": [],
   "source": [
    "from sklearn.metrics import mean_squared_error, mean_absolute_error\n",
    "import numpy as np\n",
    "error = np.sqrt(mean_squared_error(val_y, y_pred))"
   ]
  },
  {
   "cell_type": "code",
   "execution_count": 26,
   "metadata": {
    "execution": {
     "iopub.execute_input": "2021-09-27T17:39:38.512633Z",
     "iopub.status.busy": "2021-09-27T17:39:38.511987Z",
     "iopub.status.idle": "2021-09-27T17:39:38.525078Z",
     "shell.execute_reply": "2021-09-27T17:39:38.524159Z",
     "shell.execute_reply.started": "2021-09-27T17:39:38.512588Z"
    }
   },
   "outputs": [
    {
     "data": {
      "text/plain": [
       "23.909627257593574"
      ]
     },
     "execution_count": 26,
     "metadata": {},
     "output_type": "execute_result"
    }
   ],
   "source": [
    "error"
   ]
  },
  {
   "cell_type": "markdown",
   "metadata": {},
   "source": [
    "On trouve une erreur de 23.9 mm par mois pour la regression linéaire. On essaie alors d'autres algorithmes.\n"
   ]
  },
  {
   "cell_type": "markdown",
   "metadata": {},
   "source": [
    "**decision tree regressor ( ARBRE de décision)****\n"
   ]
  },
  {
   "cell_type": "code",
   "execution_count": 27,
   "metadata": {
    "execution": {
     "iopub.execute_input": "2021-09-27T17:39:38.528154Z",
     "iopub.status.busy": "2021-09-27T17:39:38.527143Z",
     "iopub.status.idle": "2021-09-27T17:39:38.999671Z",
     "shell.execute_reply": "2021-09-27T17:39:38.998873Z",
     "shell.execute_reply.started": "2021-09-27T17:39:38.528105Z"
    }
   },
   "outputs": [
    {
     "data": {
      "text/plain": [
       "DecisionTreeRegressor(random_state=0)"
      ]
     },
     "execution_count": 27,
     "metadata": {},
     "output_type": "execute_result"
    }
   ],
   "source": [
    "from sklearn.tree import DecisionTreeRegressor\n",
    "dec_tree_reg = DecisionTreeRegressor(random_state=0)\n",
    "dec_tree_reg.fit(train_X, train_y)"
   ]
  },
  {
   "cell_type": "code",
   "execution_count": 28,
   "metadata": {
    "execution": {
     "iopub.execute_input": "2021-09-27T17:39:39.000971Z",
     "iopub.status.busy": "2021-09-27T17:39:39.000749Z",
     "iopub.status.idle": "2021-09-27T17:39:39.014094Z",
     "shell.execute_reply": "2021-09-27T17:39:39.013068Z",
     "shell.execute_reply.started": "2021-09-27T17:39:39.000944Z"
    }
   },
   "outputs": [],
   "source": [
    "y_pred = dec_tree_reg.predict(val_X)"
   ]
  },
  {
   "cell_type": "code",
   "execution_count": 29,
   "metadata": {
    "execution": {
     "iopub.execute_input": "2021-09-27T17:39:39.016177Z",
     "iopub.status.busy": "2021-09-27T17:39:39.015793Z",
     "iopub.status.idle": "2021-09-27T17:39:39.023790Z",
     "shell.execute_reply": "2021-09-27T17:39:39.022956Z",
     "shell.execute_reply.started": "2021-09-27T17:39:39.016135Z"
    }
   },
   "outputs": [
    {
     "data": {
      "text/plain": [
       "4.690484322108486"
      ]
     },
     "execution_count": 29,
     "metadata": {},
     "output_type": "execute_result"
    }
   ],
   "source": [
    "error = np.sqrt(mean_squared_error(val_y, y_pred))\n",
    "error "
   ]
  },
  {
   "cell_type": "markdown",
   "metadata": {},
   "source": [
    "On trouve une erreur de seulement 3.94 pour la pluviométrie d'un mois ( l'algorithme de l'arbre de décision est beaucoup plus meilleur)\n"
   ]
  },
  {
   "cell_type": "code",
   "execution_count": 30,
   "metadata": {
    "execution": {
     "iopub.execute_input": "2021-09-27T17:39:39.025332Z",
     "iopub.status.busy": "2021-09-27T17:39:39.025006Z",
     "iopub.status.idle": "2021-09-27T17:39:39.031968Z",
     "shell.execute_reply": "2021-09-27T17:39:39.031273Z",
     "shell.execute_reply.started": "2021-09-27T17:39:39.025290Z"
    }
   },
   "outputs": [],
   "source": [
    "from sklearn import tree\n",
    "#tree.plot_tree(dec_tree_reg) "
   ]
  },
  {
   "cell_type": "markdown",
   "metadata": {},
   "source": [
    "**Random forrest regression ( foret aléatoire)****"
   ]
  },
  {
   "cell_type": "code",
   "execution_count": 31,
   "metadata": {
    "execution": {
     "iopub.execute_input": "2021-09-27T17:39:39.033723Z",
     "iopub.status.busy": "2021-09-27T17:39:39.033043Z",
     "iopub.status.idle": "2021-09-27T17:40:06.929159Z",
     "shell.execute_reply": "2021-09-27T17:40:06.928429Z",
     "shell.execute_reply.started": "2021-09-27T17:39:39.033689Z"
    }
   },
   "outputs": [
    {
     "data": {
      "text/plain": [
       "RandomForestRegressor(random_state=0)"
      ]
     },
     "execution_count": 31,
     "metadata": {},
     "output_type": "execute_result"
    }
   ],
   "source": [
    "from sklearn.ensemble import RandomForestRegressor \n",
    "# on essaye maintenant l'algorithme de RandomForrest\n",
    "random_forest_reg = RandomForestRegressor(random_state=0)\n",
    "random_forest_reg.fit(train_X, train_y)"
   ]
  },
  {
   "cell_type": "code",
   "execution_count": 32,
   "metadata": {
    "execution": {
     "iopub.execute_input": "2021-09-27T17:40:06.930771Z",
     "iopub.status.busy": "2021-09-27T17:40:06.930480Z",
     "iopub.status.idle": "2021-09-27T17:40:07.404376Z",
     "shell.execute_reply": "2021-09-27T17:40:07.403490Z",
     "shell.execute_reply.started": "2021-09-27T17:40:06.930732Z"
    }
   },
   "outputs": [],
   "source": [
    "y_pred = random_forest_reg.predict(val_X)"
   ]
  },
  {
   "cell_type": "code",
   "execution_count": 33,
   "metadata": {
    "execution": {
     "iopub.execute_input": "2021-09-27T17:40:07.405729Z",
     "iopub.status.busy": "2021-09-27T17:40:07.405508Z",
     "iopub.status.idle": "2021-09-27T17:40:07.413711Z",
     "shell.execute_reply": "2021-09-27T17:40:07.413016Z",
     "shell.execute_reply.started": "2021-09-27T17:40:07.405705Z"
    }
   },
   "outputs": [
    {
     "data": {
      "text/plain": [
       "2.7652075305073804"
      ]
     },
     "execution_count": 33,
     "metadata": {},
     "output_type": "execute_result"
    }
   ],
   "source": [
    "error = np.sqrt(mean_squared_error(val_y, y_pred))\n",
    "error "
   ]
  },
  {
   "cell_type": "markdown",
   "metadata": {},
   "source": [
    "une erreur encore moins importante de seulement 2.78 mm par mois avec l'algorithme foret aléatoire\n"
   ]
  },
  {
   "cell_type": "markdown",
   "metadata": {},
   "source": [
    "**Un petit test**\n"
   ]
  },
  {
   "cell_type": "code",
   "execution_count": 34,
   "metadata": {
    "execution": {
     "iopub.execute_input": "2021-09-27T17:40:07.415388Z",
     "iopub.status.busy": "2021-09-27T17:40:07.414973Z",
     "iopub.status.idle": "2021-09-27T17:40:07.420954Z",
     "shell.execute_reply": "2021-09-27T17:40:07.420184Z",
     "shell.execute_reply.started": "2021-09-27T17:40:07.415356Z"
    }
   },
   "outputs": [],
   "source": [
    "X=np.array([[20210731,65,5.19799998268485,371.2,461.8670773212495,0.0,411.59999999999997 ]])\n",
    "\n",
    "# 65 désigne la station jendouba (جندوبة)\n",
    "# mois de juillet"
   ]
  },
  {
   "cell_type": "code",
   "execution_count": 35,
   "metadata": {
    "execution": {
     "iopub.execute_input": "2021-09-27T17:40:07.422633Z",
     "iopub.status.busy": "2021-09-27T17:40:07.422252Z",
     "iopub.status.idle": "2021-09-27T17:40:07.431232Z",
     "shell.execute_reply": "2021-09-27T17:40:07.430481Z",
     "shell.execute_reply.started": "2021-09-27T17:40:07.422591Z"
    }
   },
   "outputs": [],
   "source": [
    "BestRegressor=random_forest_reg # on a obtenu le meilleur résultat avec le random forrest regressor"
   ]
  },
  {
   "cell_type": "code",
   "execution_count": 36,
   "metadata": {
    "execution": {
     "iopub.execute_input": "2021-09-27T17:40:07.432903Z",
     "iopub.status.busy": "2021-09-27T17:40:07.432598Z",
     "iopub.status.idle": "2021-09-27T17:40:07.453501Z",
     "shell.execute_reply": "2021-09-27T17:40:07.452504Z",
     "shell.execute_reply.started": "2021-09-27T17:40:07.432865Z"
    }
   },
   "outputs": [
    {
     "data": {
      "text/plain": [
       "array([0.445])"
      ]
     },
     "execution_count": 36,
     "metadata": {},
     "output_type": "execute_result"
    }
   ],
   "source": [
    "y_pred = BestRegressor.predict(X)\n",
    "y_pred"
   ]
  },
  {
   "cell_type": "markdown",
   "metadata": {},
   "source": [
    "bon résultat : il n'y avait pas de pluie à la station Jendouba en mois de Juillet et cet algorithme de foret aléatoire a juste prédit une pluviométrie de 0.42. +++++++++++\n",
    "Le vrai résultat est donné ci-dessous"
   ]
  },
  {
   "cell_type": "code",
   "execution_count": 37,
   "metadata": {
    "execution": {
     "iopub.execute_input": "2021-09-27T17:40:07.455203Z",
     "iopub.status.busy": "2021-09-27T17:40:07.454721Z",
     "iopub.status.idle": "2021-09-27T17:40:07.470481Z",
     "shell.execute_reply": "2021-09-27T17:40:07.469684Z",
     "shell.execute_reply.started": "2021-09-27T17:40:07.455174Z"
    }
   },
   "outputs": [
    {
     "data": {
      "text/html": [
       "<div>\n",
       "<style scoped>\n",
       "    .dataframe tbody tr th:only-of-type {\n",
       "        vertical-align: middle;\n",
       "    }\n",
       "\n",
       "    .dataframe tbody tr th {\n",
       "        vertical-align: top;\n",
       "    }\n",
       "\n",
       "    .dataframe thead th {\n",
       "        text-align: right;\n",
       "    }\n",
       "</style>\n",
       "<table border=\"1\" class=\"dataframe\">\n",
       "  <thead>\n",
       "    <tr style=\"text-align: right;\">\n",
       "      <th></th>\n",
       "      <th>Date</th>\n",
       "      <th>station</th>\n",
       "      <th>Pluvio_du_jour</th>\n",
       "      <th>Cumul_du_mois</th>\n",
       "      <th>Cumul_moy_du_mois</th>\n",
       "      <th>Cumul_periode</th>\n",
       "      <th>Cumul_moy_periode</th>\n",
       "      <th>Cumul_mois_precedent</th>\n",
       "      <th>Cumul_periode_precedente</th>\n",
       "    </tr>\n",
       "  </thead>\n",
       "  <tbody>\n",
       "    <tr>\n",
       "      <th>0</th>\n",
       "      <td>20210731</td>\n",
       "      <td>65</td>\n",
       "      <td>0.0</td>\n",
       "      <td>0.0</td>\n",
       "      <td>5.198</td>\n",
       "      <td>367.8</td>\n",
       "      <td>449.019077</td>\n",
       "      <td>0.6</td>\n",
       "      <td>412.2</td>\n",
       "    </tr>\n",
       "  </tbody>\n",
       "</table>\n",
       "</div>"
      ],
      "text/plain": [
       "       Date  station  Pluvio_du_jour  Cumul_du_mois  Cumul_moy_du_mois  \\\n",
       "0  20210731       65             0.0            0.0              5.198   \n",
       "\n",
       "   Cumul_periode  Cumul_moy_periode  Cumul_mois_precedent  \\\n",
       "0          367.8         449.019077                   0.6   \n",
       "\n",
       "   Cumul_periode_precedente  \n",
       "0                     412.2  "
      ]
     },
     "execution_count": 37,
     "metadata": {},
     "output_type": "execute_result"
    }
   ],
   "source": [
    "data.head(1)"
   ]
  },
  {
   "cell_type": "markdown",
   "metadata": {},
   "source": [
    "**********************************************************************************************************\n",
    "***************************Enregistrement du modéle *********************************"
   ]
  },
  {
   "cell_type": "code",
   "execution_count": 38,
   "metadata": {
    "execution": {
     "iopub.execute_input": "2021-09-27T17:40:07.471617Z",
     "iopub.status.busy": "2021-09-27T17:40:07.471394Z",
     "iopub.status.idle": "2021-09-27T17:40:07.476452Z",
     "shell.execute_reply": "2021-09-27T17:40:07.475715Z",
     "shell.execute_reply.started": "2021-09-27T17:40:07.471591Z"
    }
   },
   "outputs": [],
   "source": [
    "import pickle"
   ]
  },
  {
   "cell_type": "code",
   "execution_count": 39,
   "metadata": {
    "execution": {
     "iopub.execute_input": "2021-09-27T17:40:07.477802Z",
     "iopub.status.busy": "2021-09-27T17:40:07.477575Z",
     "iopub.status.idle": "2021-09-27T17:40:07.983032Z",
     "shell.execute_reply": "2021-09-27T17:40:07.982081Z",
     "shell.execute_reply.started": "2021-09-27T17:40:07.477776Z"
    }
   },
   "outputs": [],
   "source": [
    "dataa = {\"model\": BestRegressor, \"staation\": staation}\n",
    "with open('saved_steps.pkl', 'wb') as file:  # wb : write in binary\n",
    "    pickle.dump(dataa, file)"
   ]
  },
  {
   "cell_type": "code",
   "execution_count": 40,
   "metadata": {
    "execution": {
     "iopub.execute_input": "2021-09-27T17:40:07.984950Z",
     "iopub.status.busy": "2021-09-27T17:40:07.984632Z",
     "iopub.status.idle": "2021-09-27T17:40:08.347341Z",
     "shell.execute_reply": "2021-09-27T17:40:08.346549Z",
     "shell.execute_reply.started": "2021-09-27T17:40:07.984913Z"
    }
   },
   "outputs": [],
   "source": [
    "with open('saved_steps.pkl', 'rb') as file:\n",
    "    dataa = pickle.load(file)\n",
    "\n",
    "regressor_loaded = dataa[\"model\"]\n",
    "staation = dataa[\"staation\"]\n"
   ]
  },
  {
   "cell_type": "code",
   "execution_count": 41,
   "metadata": {
    "execution": {
     "iopub.execute_input": "2021-09-27T17:40:08.350471Z",
     "iopub.status.busy": "2021-09-27T17:40:08.349827Z",
     "iopub.status.idle": "2021-09-27T17:40:08.367682Z",
     "shell.execute_reply": "2021-09-27T17:40:08.366813Z",
     "shell.execute_reply.started": "2021-09-27T17:40:08.350441Z"
    }
   },
   "outputs": [
    {
     "data": {
      "text/plain": [
       "array([0.445])"
      ]
     },
     "execution_count": 41,
     "metadata": {},
     "output_type": "execute_result"
    }
   ],
   "source": [
    "y_pred = regressor_loaded.predict(X)\n",
    "y_pred "
   ]
  },
  {
   "cell_type": "markdown",
   "metadata": {},
   "source": [
    "on trouve le meme résultat donc le modéle a été enregistré avec succés\n"
   ]
  },
  {
   "cell_type": "code",
   "execution_count": 42,
   "metadata": {
    "execution": {
     "iopub.execute_input": "2021-09-27T17:40:08.369146Z",
     "iopub.status.busy": "2021-09-27T17:40:08.368947Z",
     "iopub.status.idle": "2021-09-27T17:40:08.372707Z",
     "shell.execute_reply": "2021-09-27T17:40:08.371608Z",
     "shell.execute_reply.started": "2021-09-27T17:40:08.369123Z"
    }
   },
   "outputs": [],
   "source": [
    "###############"
   ]
  },
  {
   "cell_type": "markdown",
   "metadata": {},
   "source": [
    "On teste le modéle sur un autre exemple ( moi de **juillet** station (**101**) **Ghardimaou** ou il y avait juste **3 mm** de puie)\n"
   ]
  },
  {
   "cell_type": "code",
   "execution_count": 43,
   "metadata": {
    "execution": {
     "iopub.execute_input": "2021-09-27T17:40:08.378219Z",
     "iopub.status.busy": "2021-09-27T17:40:08.377979Z",
     "iopub.status.idle": "2021-09-27T17:40:08.396593Z",
     "shell.execute_reply": "2021-09-27T17:40:08.395908Z",
     "shell.execute_reply.started": "2021-09-27T17:40:08.378193Z"
    }
   },
   "outputs": [
    {
     "data": {
      "text/plain": [
       "array([1.04])"
      ]
     },
     "execution_count": 43,
     "metadata": {},
     "output_type": "execute_result"
    }
   ],
   "source": [
    "X1=np.array([[20210731,101,3.3177777916193008,338.3,419.5121215622385,0.0,363.9 ]])\n",
    "y_pred = regressor_loaded.predict(X1)\n",
    "y_pred "
   ]
  },
  {
   "cell_type": "markdown",
   "metadata": {},
   "source": [
    "*** une erreur de 1.9 mm. *** \n"
   ]
  },
  {
   "cell_type": "code",
   "execution_count": 44,
   "metadata": {
    "execution": {
     "iopub.execute_input": "2021-09-27T17:40:08.400144Z",
     "iopub.status.busy": "2021-09-27T17:40:08.399925Z",
     "iopub.status.idle": "2021-09-27T17:40:08.403290Z",
     "shell.execute_reply": "2021-09-27T17:40:08.402586Z",
     "shell.execute_reply.started": "2021-09-27T17:40:08.400119Z"
    }
   },
   "outputs": [],
   "source": [
    "###########################################"
   ]
  },
  {
   "cell_type": "markdown",
   "metadata": {},
   "source": [
    "**Le modéle prédit-il les innondations ?**\n",
    "\n",
    "En septembre 2020, les stations de Sousse(87), Monastir(32), Mahdia(34) ont eu respectivement comme un cumul de pluie à la fin du mois des valeurs de 194 , 215 et 225.5 mm.\n",
    "\n",
    "D'aprés http://www.mementodumaire.net/guide-PCS-inondation/PDF/Partie2.pdf un cumul de 50 mm par jour peut se considérer comme inondation dans une zone non montagneuse"
   ]
  },
  {
   "cell_type": "code",
   "execution_count": 45,
   "metadata": {
    "execution": {
     "iopub.execute_input": "2021-09-27T17:40:08.405130Z",
     "iopub.status.busy": "2021-09-27T17:40:08.404438Z",
     "iopub.status.idle": "2021-09-27T17:40:08.429715Z",
     "shell.execute_reply": "2021-09-27T17:40:08.428704Z",
     "shell.execute_reply.started": "2021-09-27T17:40:08.405095Z"
    }
   },
   "outputs": [
    {
     "data": {
      "text/plain": [
       "array([263.031])"
      ]
     },
     "execution_count": 45,
     "metadata": {},
     "output_type": "execute_result"
    }
   ],
   "source": [
    "# cas station monastir \n",
    "X1=np.array([[20200930,32,45.75,411.0,338.12577463482364,31,31 ]])\n",
    "y_pred = regressor_loaded.predict(X1)\n",
    "y_pred "
   ]
  },
  {
   "cell_type": "markdown",
   "metadata": {},
   "source": [
    "oui, le modéle modéle prédit un cumul de mois de 261 mm ( la valeur réelle est de 215 mm) . le modéle prédit donc l'innondation de la station de Monastir\n"
   ]
  },
  {
   "cell_type": "code",
   "execution_count": 46,
   "metadata": {
    "execution": {
     "iopub.execute_input": "2021-09-27T17:40:08.431004Z",
     "iopub.status.busy": "2021-09-27T17:40:08.430801Z",
     "iopub.status.idle": "2021-09-27T17:40:08.450615Z",
     "shell.execute_reply": "2021-09-27T17:40:08.449658Z",
     "shell.execute_reply.started": "2021-09-27T17:40:08.430980Z"
    }
   },
   "outputs": [
    {
     "data": {
      "text/plain": [
       "array([203.371])"
      ]
     },
     "execution_count": 46,
     "metadata": {},
     "output_type": "execute_result"
    }
   ],
   "source": [
    "# cas station mahdia \n",
    "X2=np.array([[20200930,34,41.97,316.5,342.982,14.3,14.3 ]])\n",
    "y_pred = regressor_loaded.predict(X2)\n",
    "y_pred "
   ]
  },
  {
   "cell_type": "markdown",
   "metadata": {},
   "source": [
    "le modéle prédit un cumul de mois de 224 mm ( la valeur réelle est de 225.5 mm) . le modéle prédit donc l'innondation de la station de mahdia\n"
   ]
  },
  {
   "cell_type": "code",
   "execution_count": 47,
   "metadata": {
    "execution": {
     "iopub.execute_input": "2021-09-27T17:40:08.452310Z",
     "iopub.status.busy": "2021-09-27T17:40:08.452057Z",
     "iopub.status.idle": "2021-09-27T17:40:08.470660Z",
     "shell.execute_reply": "2021-09-27T17:40:08.470123Z",
     "shell.execute_reply.started": "2021-09-27T17:40:08.452276Z"
    }
   },
   "outputs": [
    {
     "data": {
      "text/plain": [
       "array([140.34])"
      ]
     },
     "execution_count": 47,
     "metadata": {},
     "output_type": "execute_result"
    }
   ],
   "source": [
    "# cas station sousse\n",
    "X3=np.array([[20200930,87,40.04489793582839,356.3,353.9066720711686,40,40 ]])\n",
    "y_pred = regressor_loaded.predict(X3)\n",
    "y_pred "
   ]
  },
  {
   "cell_type": "markdown",
   "metadata": {},
   "source": [
    "une prédiction de 140.5 mm par mois ( la valeur réelle est de 194 mm ) on peut considérer que le modéle prédit une faible inondation càd des quantités importantes mais un peu moins importantes que celles des stations Monastir et mahdia"
   ]
  },
  {
   "cell_type": "code",
   "execution_count": 48,
   "metadata": {
    "execution": {
     "iopub.execute_input": "2021-09-27T17:40:08.472275Z",
     "iopub.status.busy": "2021-09-27T17:40:08.471815Z",
     "iopub.status.idle": "2021-09-27T17:40:08.475921Z",
     "shell.execute_reply": "2021-09-27T17:40:08.475158Z",
     "shell.execute_reply.started": "2021-09-27T17:40:08.472246Z"
    }
   },
   "outputs": [],
   "source": [
    "#############"
   ]
  },
  {
   "cell_type": "markdown",
   "metadata": {},
   "source": [
    "**Prédiction pour le mois de Aout ( voir le tableau Excel)**** **( en utilisant le modéle )**"
   ]
  },
  {
   "cell_type": "code",
   "execution_count": 49,
   "metadata": {
    "execution": {
     "iopub.execute_input": "2021-09-27T17:40:08.477256Z",
     "iopub.status.busy": "2021-09-27T17:40:08.477055Z",
     "iopub.status.idle": "2021-09-27T17:40:08.502381Z",
     "shell.execute_reply": "2021-09-27T17:40:08.501441Z",
     "shell.execute_reply.started": "2021-09-27T17:40:08.477233Z"
    }
   },
   "outputs": [
    {
     "data": {
      "text/plain": [
       "array([4.27])"
      ]
     },
     "execution_count": 49,
     "metadata": {},
     "output_type": "execute_result"
    }
   ],
   "source": [
    "# cumul de mois prédit par le modéle pour la station Nabeul mois Aout\n",
    "X=np.array([[20210831,124,10.784,316.7,396.5,0,396.8]])\n",
    "y_pred = regressor_loaded.predict(X)\n",
    "y_pred "
   ]
  },
  {
   "cell_type": "code",
   "execution_count": 50,
   "metadata": {
    "execution": {
     "iopub.execute_input": "2021-09-27T17:40:08.503836Z",
     "iopub.status.busy": "2021-09-27T17:40:08.503618Z",
     "iopub.status.idle": "2021-09-27T17:40:08.507063Z",
     "shell.execute_reply": "2021-09-27T17:40:08.506236Z",
     "shell.execute_reply.started": "2021-09-27T17:40:08.503811Z"
    }
   },
   "outputs": [],
   "source": [
    "####################################################"
   ]
  },
  {
   "cell_type": "markdown",
   "metadata": {},
   "source": []
  }
 ],
 "metadata": {
  "kernelspec": {
   "display_name": "Python 3",
   "language": "python",
   "name": "python3"
  },
  "language_info": {
   "codemirror_mode": {
    "name": "ipython",
    "version": 3
   },
   "file_extension": ".py",
   "mimetype": "text/x-python",
   "name": "python",
   "nbconvert_exporter": "python",
   "pygments_lexer": "ipython3",
   "version": "3.8.5"
  }
 },
 "nbformat": 4,
 "nbformat_minor": 4
}
